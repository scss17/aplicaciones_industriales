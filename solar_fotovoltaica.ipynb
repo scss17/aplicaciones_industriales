{
 "cells": [
  {
   "cell_type": "code",
   "execution_count": 4,
   "metadata": {},
   "outputs": [],
   "source": [
    "import math \n",
    "from math import sin, cos, radians"
   ]
  },
  {
   "cell_type": "markdown",
   "metadata": {},
   "source": [
    "## Constante Solar\n",
    "La **Constante Solar** es la cantidad de energía recibida en forma de radiación solar por unidad de timepo y superficie, medida fuera de la atmósfera terrestre en un plano perpendicular a los rayos del `Sol`. La actual `Radiación Solar Directa` fuera de la atmósfera fluctúa por alrededor del 6.9% durante un año. de 1,412 $W/m^{2}$ en enero 3 (perihelio) a 1,321 $W/m^{2}$ en julio 4 (afelio) debido a la variación de la distancia entre la tierra y el sol. \n",
    "\n",
    "<img src=\"imag/constante_solar.png\" width=500, height=500>\n",
    "\n",
    "    La constante solar no permanece constante sobre largor periodos de tiempo.  \n",
    "    El valor aproximado considerado es de 1,360 $W/m^{2}$"
   ]
  },
  {
   "cell_type": "code",
   "execution_count": 3,
   "metadata": {},
   "outputs": [],
   "source": [
    "# Valor de la constante solar\n",
    "constante_solar = 1360"
   ]
  },
  {
   "cell_type": "markdown",
   "metadata": {},
   "source": [
    "## Radación Solar Extraterrestre\n",
    "La **Radiación Solar Extraterrestre** es la **Radiación Solar** que se recibe sobre una superficie horizontal situada en el límite superior de la armósfera. El valor de define a partir del valor de la **Constante Solar**. En consecuencia para calcular la **Radiación Solar Extraterrestre** se debe corregir la **Contante Solar** considerando que la distancia `Sol-Tierra` varia a lo largo del año, y pasando también de una superfice perpendicular a los rayos solares a una horizontal a la `Tierra`.\n",
    "\n",
    "$ \\large I_O = I_{SC} \\left[ 1 + 0.033 \\cos \\frac{360 n}{365} \\right]$\n",
    "\n",
    "\n",
    "$ \\large H_O = I_{SC} \\left[ 1 + 0.033 \\cos \\frac{360 n}{365} \\right] \\sin \\alpha $\n",
    "\n",
    "Donde:\n",
    " + $I_O$: Radiación solar extraterrestre por hora.\n",
    " + $H_O$: Radiacíon solar extraterrestre por día.\n",
    " + $I_{SE}$: Es la constante solar.\n",
    " + $n$: Día `Juliano`\n",
    " + $\\alpha$: Altitud Solar.\n"
   ]
  },
  {
   "cell_type": "code",
   "execution_count": 6,
   "metadata": {},
   "outputs": [],
   "source": [
    "def radiacion_solar_hora(constante_solar, dia_juliano):\n",
    "    \n",
    "    \"\"\"It returns the solar radiation per hour. \n",
    "    It requires two arguments: solar constant and Julian day\"\"\"\n",
    "    \n",
    "    return constante_solar*(1 + 0.033 * cos(radians((360 * dia_juliano)/365)))\n",
    "\n",
    "def radiacion_solar_dia(constante_solar, dia_juliano, altitud_solar):\n",
    "    \n",
    "    \"\"\"It returns the solar radiation per hour. \n",
    "    It requires three arguments: solar constant, Julian day and solar altitude\"\"\"\n",
    "    \n",
    "    solar_con = constante_solar*(1 + 0.033 * cos(radians((360 * dia_juliano)/365)))* sin(radians(altitud_solar))\n",
    "    \n",
    "    if solar_con < 0:\n",
    "        return 0\n",
    "    else:\n",
    "        return solar_con"
   ]
  },
  {
   "cell_type": "markdown",
   "metadata": {},
   "source": [
    "## Declinación Solar\n",
    "El plano de revolución de la `Tierra` alredor del sol se denomina **plano eliptico**. La `Tierra` gira sobre sí misma alrededor de un eje denominado **eje polar**, el cual se encuentra inclinado alrededor de 23° de la normal del plano eliptico. La rotación de la `Tierra` alrededor de este eje ocasiona los cambios diurnos en la **radiación solar incidente**; la posición de este eje relativo al sol produce los cambios estacionales en la radiación solar.\n",
    "<img src=\"imag/plano_eliptico_1.png\" width=800, height=800 >\n",
    "\n",
    "Este ángulo es denominado **declinación solar**. La declinación es 0 en los equinoccios de primavera y de otoño y tiene un valor aproximado de (+) 23.5° en el solsticio de verano y cerca de (-) 23.5° en el solsticio de invierno.\n",
    "\n",
    "$$ \\large\\delta = 23.45° sen\\left[ 360° \\left(\\frac{284 + n}{365} \\right) \\right] $$\n",
    "\n",
    "\n",
    "\n",
    "Donde **n** es el día `Juliano` (**d** es el día del mes):\n",
    "\n",
    "| Mes | Juliano |\n",
    "|-----|-------------|\n",
    "| Enero | n = d |\n",
    "| Febrero | n = d + 31 |\n",
    "| Marzo | n = d + 59\n",
    "| Abril | n = d + 90 |\n",
    "| Mayo | n = d + 120 |\n",
    "| Junio | n = d + 151 |\n",
    "| Julio | n = d + 181 |\n",
    "| Agosto | n = d + 212 |\n",
    "| Septiembre | n = d + 243 |\n",
    "| Octubre | n = d + 273 |\n",
    "| Noviembre | n = d + 304 |\n",
    "| Diciembre | n = d + 334 |"
   ]
  },
  {
   "cell_type": "code",
   "execution_count": 12,
   "metadata": {},
   "outputs": [],
   "source": [
    "def dia_juliano(dia,mes):\n",
    "    \n",
    "    \"\"\"Returns the Julian day according to the day of the month entered.\n",
    "    The function requires two arguments: day and month.\n",
    "    \"\"\"\n",
    "    \n",
    "    # Create a dict with the Julian day calculations.\n",
    "    n_juliano = {'enero': dia,\n",
    "                'febrero': dia + 31,\n",
    "                'marzo': dia + 59,\n",
    "                'abril': dia + 90,\n",
    "                'mayo': dia + 120,\n",
    "                'junio': dia + 151,\n",
    "                'julio': dia + 181,\n",
    "                'agosto': dia + 212,\n",
    "                'septiembre': dia + 243,\n",
    "                'octubre': dia + 273,\n",
    "                'noviembre': dia + 304,\n",
    "                'diciembre': dia + 334}\n",
    "    \n",
    "    # Extract the Julian day value.\n",
    "    return n_juliano[mes.lower()]"
   ]
  },
  {
   "cell_type": "code",
   "execution_count": 13,
   "metadata": {},
   "outputs": [],
   "source": [
    "def declinacion_solar(dia_juliano):\n",
    "    \n",
    "    \"\"\"Calculates solar declination angle. It requires the Julian day as argument\"\"\"\n",
    "    \n",
    "    # Compute delta: solar declination angle value\n",
    "    delta = 23.45*sin(radians(360*((284 + dia_juliano)/365)))\n",
    "    return delta"
   ]
  },
  {
   "cell_type": "code",
   "execution_count": 16,
   "metadata": {},
   "outputs": [
    {
     "data": {
      "text/plain": [
       "-17.24552918850547"
      ]
     },
     "execution_count": 16,
     "metadata": {},
     "output_type": "execute_result"
    }
   ],
   "source": [
    "juliano = dia_juliano(2,'febrero')\n",
    "declinacion_solar(juliano)"
   ]
  },
  {
   "cell_type": "markdown",
   "metadata": {},
   "source": [
    "### Declinación Magnética\n",
    "La declinación magnética en un punto de la tierra es el ángulo comprendido entre el **Norte Magnético Local** y el **Norte Verdadero** (o Norte Geográfico). En otras palabras: es la diferencia entre el norte geográfico y el indicado por una brújula.\n",
    "\n",
    "Por conveniencia la **declinación**:\n",
    "\n",
    " + Es positiva (+) cuando el **norte magnético** se encuentra al `Este` del **Norte Verdadero**.\n",
    " + Es negativa (-) cuando el **norte magnético** se encuentra al `Oeste` del **Norte Verdadero**.\n",
    "\n",
    "| Declinación Negativa (-) | Declinación Positiva (+) |\n",
    "|:-:|:-:| \n",
    "| <img src=\"imag/declinacion_magnetica_1.png\" width=300, height=300 > | <img src=\"imag/declinacion_magnetica_2.png\" width=300, height=300 > |\n",
    "| Norte Magnético al `Oeste` | Norte Margnético al `Este` |\n",
    "\n",
    "La NOAA cuenta con una aplicación web para estimar la declinación magnética: [Magnetic Declination Estimated Value](https://www.ngdc.noaa.gov/geomag/calculators/magcalc.shtml)"
   ]
  },
  {
   "cell_type": "markdown",
   "metadata": {},
   "source": [
    "### Ecuación del Tiempo\n",
    "  + La **Ecuación del Tiempo (E)** es la diferencia entre el tiempo solar medio y el timepo solar aparente (tiempo medido por un reloj de sol).  \n",
    "  +  El **Tiempo Solar (ST)** es una medida de tiempo fundamentada en el movimiento aparente del `Sol` sobre el horizonte del lugar. Toma como origen el instante en el cual el `Sol` pasa por el `Meridiano`, que es su punto más alto en el cielo.\n",
    "  \n",
    "  \n",
    "$$  \\normalsize T = Tiempo_{Std} + 4(L_{st} - L_{loc}) + E $$\n",
    "\n",
    "Donde: \n",
    "\n",
    "$ \\normalsize E = 9.87 \\sin(2B) - 7.53 \\cos(B) - 1.5 \\sin(B) $\n",
    "\n",
    "$ \\normalsize B = \\left[360 \\left(\\frac{n - 81}{364}\\right)\\right] $\n",
    "\n",
    " + **TiempoStd**: Tiempo en el Reloj\n",
    " + **Lst**: Longitud Estándar (120° W Pacífico, 105° W Montaña, 90° W Centro)\n",
    " + **Lloc** = Longitud Local\n",
    " + **n**: Día Juliano\n",
    " \n",
    "Resultado:\n",
    "\n",
    "$$ ST = STh:STm $$\n"
   ]
  },
  {
   "cell_type": "code",
   "execution_count": 159,
   "metadata": {},
   "outputs": [],
   "source": [
    "def ecuacion_tiempo(tiempo_std, lst, lloc, dia_juliano):\n",
    "    \n",
    "    \"\"\"Calculates time equation. It requires four arguments\"\"\"\n",
    "    \n",
    "    # Calculate the variable values\n",
    "    time_eq_B = 360*((dia_juliano-81)/364)\n",
    "    time_eq_E = 9.87*sin(radians(2*time_eq_B)) - 7.53*cos(radians(time_eq_B)) - 1.5*sin(radians(time_eq_B))\n",
    "    return tiempo_std + 4(lst+lloc) + time_eq_E"
   ]
  }
 ],
 "metadata": {
  "kernelspec": {
   "display_name": "Python 3",
   "language": "python",
   "name": "python3"
  },
  "language_info": {
   "codemirror_mode": {
    "name": "ipython",
    "version": 3
   },
   "file_extension": ".py",
   "mimetype": "text/x-python",
   "name": "python",
   "nbconvert_exporter": "python",
   "pygments_lexer": "ipython3",
   "version": "3.7.6"
  }
 },
 "nbformat": 4,
 "nbformat_minor": 4
}
